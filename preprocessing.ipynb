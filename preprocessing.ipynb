{
  "nbformat": 4,
  "nbformat_minor": 0,
  "metadata": {
    "colab": {
      "provenance": []
    },
    "kernelspec": {
      "name": "python3",
      "display_name": "Python 3"
    },
    "language_info": {
      "name": "python"
    }
  },
  "cells": [
    {
      "cell_type": "markdown",
      "source": [
        "# **Data Preprocessing & Encoding**"
      ],
      "metadata": {
        "id": "pWt8UVqri8CX"
      }
    },
    {
      "cell_type": "code",
      "execution_count": 6,
      "metadata": {
        "colab": {
          "base_uri": "https://localhost:8080/"
        },
        "id": "OOtBoy6IsRep",
        "outputId": "d558d3eb-ec90-4e34-fc99-17bba99e9be0"
      },
      "outputs": [
        {
          "output_type": "stream",
          "name": "stderr",
          "text": [
            "<ipython-input-6-016da4a8648d>:60: SettingWithCopyWarning: \n",
            "A value is trying to be set on a copy of a slice from a DataFrame.\n",
            "Try using .loc[row_indexer,col_indexer] = value instead\n",
            "\n",
            "See the caveats in the documentation: https://pandas.pydata.org/pandas-docs/stable/user_guide/indexing.html#returning-a-view-versus-a-copy\n",
            "  no_info_rows['smoking_history'] = no_info_predictions\n"
          ]
        },
        {
          "output_type": "stream",
          "name": "stdout",
          "text": [
            "     age  hypertension  heart_disease    bmi  HbA1c_level  \\\n",
            "0   80.0           0.0            1.0  25.19          6.6   \n",
            "2   28.0           0.0            0.0  27.32          5.7   \n",
            "3   36.0           0.0            0.0  23.45          5.0   \n",
            "4   76.0           1.0            1.0  20.14          4.8   \n",
            "5   20.0           0.0            0.0  27.32          6.6   \n",
            "6   44.0           0.0            0.0  19.31          6.5   \n",
            "8   42.0           0.0            0.0  33.64          4.8   \n",
            "9   32.0           0.0            0.0  27.32          5.0   \n",
            "10  53.0           0.0            0.0  27.32          6.1   \n",
            "11  54.0           0.0            0.0  54.70          6.0   \n",
            "\n",
            "    blood_glucose_level  diabetes  gender_Female  gender_Male  gender_Other  \\\n",
            "0                 140.0       0.0            1.0          0.0           0.0   \n",
            "2                 158.0       0.0            0.0          1.0           0.0   \n",
            "3                 155.0       0.0            1.0          0.0           0.0   \n",
            "4                 155.0       0.0            0.0          1.0           0.0   \n",
            "5                  85.0       0.0            1.0          0.0           0.0   \n",
            "6                 200.0       1.0            1.0          0.0           0.0   \n",
            "8                 145.0       0.0            0.0          1.0           0.0   \n",
            "9                 100.0       0.0            1.0          0.0           0.0   \n",
            "10                 85.0       0.0            1.0          0.0           0.0   \n",
            "11                100.0       0.0            1.0          0.0           0.0   \n",
            "\n",
            "    smoking_history_current  smoking_history_ever  smoking_history_former  \\\n",
            "0                       0.0                   0.0                     0.0   \n",
            "2                       1.0                   0.0                     0.0   \n",
            "3                       1.0                   0.0                     0.0   \n",
            "4                       0.0                   0.0                     0.0   \n",
            "5                       0.0                   0.0                     0.0   \n",
            "6                       0.0                   0.0                     0.0   \n",
            "8                       0.0                   0.0                     0.0   \n",
            "9                       0.0                   0.0                     1.0   \n",
            "10                      0.0                   0.0                     1.0   \n",
            "11                      0.0                   0.0                     0.0   \n",
            "\n",
            "    smoking_history_never  smoking_history_not current  \n",
            "0                     1.0                          0.0  \n",
            "2                     0.0                          0.0  \n",
            "3                     0.0                          0.0  \n",
            "4                     1.0                          0.0  \n",
            "5                     1.0                          0.0  \n",
            "6                     1.0                          0.0  \n",
            "8                     1.0                          0.0  \n",
            "9                     0.0                          0.0  \n",
            "10                    0.0                          0.0  \n",
            "11                    1.0                          0.0  \n",
            "Data preprocessing and one-hot encoding completed and saved to processed_diabetes_data.xlsx\n"
          ]
        }
      ],
      "source": [
        "import pandas as pd\n",
        "from google.colab import files\n",
        "from sklearn.neighbors import KNeighborsClassifier\n",
        "from sklearn.model_selection import train_test_split\n",
        "from sklearn.preprocessing import StandardScaler, OneHotEncoder\n",
        "from sklearn.impute import SimpleImputer\n",
        "# Load your dataset\n",
        "file_path = '/content/diabetes_prediction_dataset.xlsx'\n",
        "df = pd.read_excel(file_path)\n",
        "\n",
        "#gender_mapping = {'Male': 0, 'Female': 1}\n",
        "#df['gender'] = df['gender'].map(gender_mapping)\n",
        "\n",
        "# Apply one hot encoding to gender column\n",
        "encoder= OneHotEncoder(sparse_output=False)\n",
        "gender_encoded = encoder.fit_transform(df[['gender']])\n",
        "gender_encoded_df= pd.DataFrame(gender_encoded, columns=encoder.get_feature_names_out(['gender']))\n",
        "df =pd.concat([df.drop('gender',axis=1),gender_encoded_df],axis=1)\n",
        "\n",
        "# Separate the rows with 'No Info' in smoking history\n",
        "no_info_rows = df[df['smoking_history'].isnull()]\n",
        "known_rows = df[~df['smoking_history'].isnull()]\n",
        "\n",
        "# Impute missing values for the entire dataset\n",
        "imputer = SimpleImputer(strategy='mean')\n",
        "df_imputed = pd.DataFrame(imputer.fit_transform(df.drop('smoking_history', axis=1)), columns=df.drop('smoking_history', axis=1).columns)\n",
        "\n",
        "# Re-attach the smoking history column\n",
        "df_imputed['smoking_history'] = df['smoking_history']\n",
        "\n",
        "# Separate the rows again after imputation\n",
        "no_info_rows = df_imputed[df_imputed['smoking_history'] == 'No Info']\n",
        "known_rows = df_imputed[df_imputed['smoking_history'] != 'No Info']\n",
        "\n",
        "# Drop any remaining NaN values in smoking_history column\n",
        "known_rows = known_rows.dropna(subset=['smoking_history'])\n",
        "\n",
        "# Prepare the data for KNN\n",
        "X = known_rows.drop('smoking_history', axis=1)\n",
        "y = known_rows['smoking_history']\n",
        "\n",
        "# Split the data into training and test sets\n",
        "X_train, X_test, y_train, y_test = train_test_split(X, y, test_size=0.2, random_state=42)\n",
        "\n",
        "# Standardize the features\n",
        "scaler = StandardScaler()\n",
        "X_train_scaled = scaler.fit_transform(X_train)\n",
        "X_test_scaled = scaler.transform(X_test)\n",
        "\n",
        "# Train the KNN model\n",
        "knn = KNeighborsClassifier(n_neighbors=5)\n",
        "knn.fit(X_train_scaled, y_train)\n",
        "\n",
        "# Predict the smoking history for the 'No Info' rows\n",
        "no_info_X = no_info_rows.drop('smoking_history', axis=1)\n",
        "no_info_X_scaled = scaler.transform(no_info_X)\n",
        "no_info_predictions = knn.predict(no_info_X_scaled)\n",
        "\n",
        "# Assign the predicted values to the 'No Info' rows\n",
        "no_info_rows['smoking_history'] = no_info_predictions\n",
        "\n",
        "# Combine all the rows back into a single DataFrame\n",
        "processed_df = pd.concat([known_rows, no_info_rows])\n",
        "\n",
        "# Apply one-hot encoding to the smoking_history column\n",
        "encoder = OneHotEncoder(sparse_output=False)\n",
        "smoking_history_encoded = encoder.fit_transform(processed_df[['smoking_history']])\n",
        "\n",
        "\n",
        "\n",
        "# Create a DataFrame with the encoded smoking history\n",
        "smoking_history_encoded_df = pd.DataFrame(smoking_history_encoded, columns=encoder.get_feature_names_out(['smoking_history']))\n",
        "\n",
        "# Combine the encoded columns with the original DataFrame (excluding the original smoking_history column)\n",
        "final_df =pd.concat([processed_df.drop('smoking_history', axis=1), smoking_history_encoded_df], axis=1)\n",
        "\n",
        "# Step 4: Save the processed DataFrame to a new Excel file\n",
        "processed_file_name = 'processed_diabetes_data.xlsx'\n",
        "final_df.to_excel(processed_file_name, index=False)\n",
        "\n",
        "print(final_df.head(10))\n",
        "#  Step 5: Download the processed file\n",
        "# files.download(processed_file_name)\n",
        "\n",
        "print(\"Data preprocessing and one-hot encoding completed and saved to\", processed_file_name)\n"
      ]
    },
    {
      "cell_type": "code",
      "source": [
        "#Step 5: Download the processed file\n",
        "files.download(processed_file_name)"
      ],
      "metadata": {
        "id": "XVdvUzn2B4uy",
        "colab": {
          "base_uri": "https://localhost:8080/",
          "height": 17
        },
        "outputId": "4a6bbbb8-3672-465c-9408-caa130d64f30"
      },
      "execution_count": null,
      "outputs": [
        {
          "output_type": "display_data",
          "data": {
            "text/plain": [
              "<IPython.core.display.Javascript object>"
            ],
            "application/javascript": [
              "\n",
              "    async function download(id, filename, size) {\n",
              "      if (!google.colab.kernel.accessAllowed) {\n",
              "        return;\n",
              "      }\n",
              "      const div = document.createElement('div');\n",
              "      const label = document.createElement('label');\n",
              "      label.textContent = `Downloading \"${filename}\": `;\n",
              "      div.appendChild(label);\n",
              "      const progress = document.createElement('progress');\n",
              "      progress.max = size;\n",
              "      div.appendChild(progress);\n",
              "      document.body.appendChild(div);\n",
              "\n",
              "      const buffers = [];\n",
              "      let downloaded = 0;\n",
              "\n",
              "      const channel = await google.colab.kernel.comms.open(id);\n",
              "      // Send a message to notify the kernel that we're ready.\n",
              "      channel.send({})\n",
              "\n",
              "      for await (const message of channel.messages) {\n",
              "        // Send a message to notify the kernel that we're ready.\n",
              "        channel.send({})\n",
              "        if (message.buffers) {\n",
              "          for (const buffer of message.buffers) {\n",
              "            buffers.push(buffer);\n",
              "            downloaded += buffer.byteLength;\n",
              "            progress.value = downloaded;\n",
              "          }\n",
              "        }\n",
              "      }\n",
              "      const blob = new Blob(buffers, {type: 'application/binary'});\n",
              "      const a = document.createElement('a');\n",
              "      a.href = window.URL.createObjectURL(blob);\n",
              "      a.download = filename;\n",
              "      div.appendChild(a);\n",
              "      a.click();\n",
              "      div.remove();\n",
              "    }\n",
              "  "
            ]
          },
          "metadata": {}
        },
        {
          "output_type": "display_data",
          "data": {
            "text/plain": [
              "<IPython.core.display.Javascript object>"
            ],
            "application/javascript": [
              "download(\"download_376e3d8c-bef4-4e36-9f74-1a9778a1df0f\", \"processed_diabetes_data.xlsx\", 4924606)"
            ]
          },
          "metadata": {}
        }
      ]
    },
    {
      "cell_type": "markdown",
      "source": [
        "# **Over Sampling Using Smote**"
      ],
      "metadata": {
        "id": "QSXDNcdDjNMI"
      }
    },
    {
      "cell_type": "code",
      "source": [
        "#Oversampling\n",
        "\n",
        "import pandas as pd\n",
        "from google.colab import files\n",
        "from imblearn.over_sampling import SMOTE\n",
        "\n",
        "# Load the data\n",
        "file_path = '/content/drive/MyDrive/Diabetes Prediction/processed_diabetes_data.xlsx'\n",
        "data = pd.read_excel(file_path)\n",
        "\n",
        "# Assuming 'class' is the target column\n",
        "X = data.drop('diabetes', axis=1)\n",
        "y = data['diabetes']\n",
        "\n",
        "# Apply SMOTE\n",
        "smote = SMOTE()\n",
        "X_resampled, y_resampled = smote.fit_resample(X, y)\n",
        "\n",
        "# Combine resampled X and y\n",
        "resampled_data = pd.concat([X_resampled, y_resampled], axis=1)\n",
        "resampled_data.to_excel('oversampled_data.xlsx', index=False)\n",
        "files.download('oversampled_data.xlsx')"
      ],
      "metadata": {
        "id": "GNzu7GEXxjFj",
        "colab": {
          "base_uri": "https://localhost:8080/",
          "height": 17
        },
        "outputId": "27c5fc51-612f-4c7e-a71d-676a911ec49a"
      },
      "execution_count": null,
      "outputs": [
        {
          "output_type": "display_data",
          "data": {
            "text/plain": [
              "<IPython.core.display.Javascript object>"
            ],
            "application/javascript": [
              "\n",
              "    async function download(id, filename, size) {\n",
              "      if (!google.colab.kernel.accessAllowed) {\n",
              "        return;\n",
              "      }\n",
              "      const div = document.createElement('div');\n",
              "      const label = document.createElement('label');\n",
              "      label.textContent = `Downloading \"${filename}\": `;\n",
              "      div.appendChild(label);\n",
              "      const progress = document.createElement('progress');\n",
              "      progress.max = size;\n",
              "      div.appendChild(progress);\n",
              "      document.body.appendChild(div);\n",
              "\n",
              "      const buffers = [];\n",
              "      let downloaded = 0;\n",
              "\n",
              "      const channel = await google.colab.kernel.comms.open(id);\n",
              "      // Send a message to notify the kernel that we're ready.\n",
              "      channel.send({})\n",
              "\n",
              "      for await (const message of channel.messages) {\n",
              "        // Send a message to notify the kernel that we're ready.\n",
              "        channel.send({})\n",
              "        if (message.buffers) {\n",
              "          for (const buffer of message.buffers) {\n",
              "            buffers.push(buffer);\n",
              "            downloaded += buffer.byteLength;\n",
              "            progress.value = downloaded;\n",
              "          }\n",
              "        }\n",
              "      }\n",
              "      const blob = new Blob(buffers, {type: 'application/binary'});\n",
              "      const a = document.createElement('a');\n",
              "      a.href = window.URL.createObjectURL(blob);\n",
              "      a.download = filename;\n",
              "      div.appendChild(a);\n",
              "      a.click();\n",
              "      div.remove();\n",
              "    }\n",
              "  "
            ]
          },
          "metadata": {}
        },
        {
          "output_type": "display_data",
          "data": {
            "text/plain": [
              "<IPython.core.display.Javascript object>"
            ],
            "application/javascript": [
              "download(\"download_941adc18-c9d2-4735-9540-f0c9e02ac1a6\", \"oversampled_data.xlsx\", 11021129)"
            ]
          },
          "metadata": {}
        }
      ]
    },
    {
      "cell_type": "markdown",
      "source": [
        "# **OverSampling Using ADASYN**"
      ],
      "metadata": {
        "id": "mue2nkmrjdep"
      }
    },
    {
      "cell_type": "code",
      "source": [
        "import pandas as pd\n",
        "from google.colab import files\n",
        "from imblearn.over_sampling import ADASYN\n",
        "\n",
        "# Load the data\n",
        "file_path = '/content/processed_diabetes_data.xlsx'\n",
        "data = pd.read_excel(file_path)\n",
        "\n",
        "# Assuming 'diabetes' is the target column\n",
        "X = data.drop('diabetes', axis=1)\n",
        "y = data['diabetes']\n",
        "\n",
        "# Apply ADASYN\n",
        "adasyn = ADASYN()\n",
        "X_resampled, y_resampled = adasyn.fit_resample(X, y)\n",
        "\n",
        "# Combine resampled X and y\n",
        "resampled_data = pd.concat([X_resampled, y_resampled], axis=1)\n",
        "resampled_data.to_excel('adasyn_oversampled_data.xlsx', index=False)\n",
        "\n",
        "# Download the oversampled data\n",
        "files.download('adasyn_oversampled_data.xlsx')\n"
      ],
      "metadata": {
        "colab": {
          "base_uri": "https://localhost:8080/",
          "height": 17
        },
        "id": "Y9sSoOnPP3Ue",
        "outputId": "266bf337-6014-4882-f044-a1f750b91f85"
      },
      "execution_count": null,
      "outputs": [
        {
          "output_type": "display_data",
          "data": {
            "text/plain": [
              "<IPython.core.display.Javascript object>"
            ],
            "application/javascript": [
              "\n",
              "    async function download(id, filename, size) {\n",
              "      if (!google.colab.kernel.accessAllowed) {\n",
              "        return;\n",
              "      }\n",
              "      const div = document.createElement('div');\n",
              "      const label = document.createElement('label');\n",
              "      label.textContent = `Downloading \"${filename}\": `;\n",
              "      div.appendChild(label);\n",
              "      const progress = document.createElement('progress');\n",
              "      progress.max = size;\n",
              "      div.appendChild(progress);\n",
              "      document.body.appendChild(div);\n",
              "\n",
              "      const buffers = [];\n",
              "      let downloaded = 0;\n",
              "\n",
              "      const channel = await google.colab.kernel.comms.open(id);\n",
              "      // Send a message to notify the kernel that we're ready.\n",
              "      channel.send({})\n",
              "\n",
              "      for await (const message of channel.messages) {\n",
              "        // Send a message to notify the kernel that we're ready.\n",
              "        channel.send({})\n",
              "        if (message.buffers) {\n",
              "          for (const buffer of message.buffers) {\n",
              "            buffers.push(buffer);\n",
              "            downloaded += buffer.byteLength;\n",
              "            progress.value = downloaded;\n",
              "          }\n",
              "        }\n",
              "      }\n",
              "      const blob = new Blob(buffers, {type: 'application/binary'});\n",
              "      const a = document.createElement('a');\n",
              "      a.href = window.URL.createObjectURL(blob);\n",
              "      a.download = filename;\n",
              "      div.appendChild(a);\n",
              "      a.click();\n",
              "      div.remove();\n",
              "    }\n",
              "  "
            ]
          },
          "metadata": {}
        },
        {
          "output_type": "display_data",
          "data": {
            "text/plain": [
              "<IPython.core.display.Javascript object>"
            ],
            "application/javascript": [
              "download(\"download_60a1f0d8-33e6-4be3-a282-dddf5946e6f1\", \"adasyn_oversampled_data.xlsx\", 10883774)"
            ]
          },
          "metadata": {}
        }
      ]
    },
    {
      "cell_type": "markdown",
      "source": [
        "# **Oversampling using Borderline-SMOTE**"
      ],
      "metadata": {
        "id": "Y4YvOGFmFLP_"
      }
    },
    {
      "cell_type": "code",
      "source": [
        "import pandas as pd\n",
        "from imblearn.over_sampling import BorderlineSMOTE\n",
        "from google.colab import files\n",
        "\n",
        "# Load the data\n",
        "file_path = '/content/processed_diabetes_data.xlsx'\n",
        "data = pd.read_excel(file_path)\n",
        "\n",
        "# Assuming 'diabetes' is the target column\n",
        "X = data.drop('diabetes', axis=1)\n",
        "y = data['diabetes']\n",
        "\n",
        "# Apply Borderline-SMOTE\n",
        "borderline_smote = BorderlineSMOTE()\n",
        "X_resampled, y_resampled = borderline_smote.fit_resample(X, y)\n",
        "\n",
        "# Combine resampled X and y\n",
        "resampled_data = pd.concat([X_resampled, y_resampled], axis=1)\n",
        "\n",
        "# Save the resampled data to an Excel file\n",
        "resampled_data.to_excel('borderline_oversampled_data.xlsx', index=False)\n",
        "\n",
        "# Download the file\n",
        "files.download('borderline_oversampled_data.xlsx')\n"
      ],
      "metadata": {
        "colab": {
          "base_uri": "https://localhost:8080/",
          "height": 34
        },
        "id": "reF0G1kRhbk5",
        "outputId": "41221805-4c0e-4c72-f260-cac0ec896e03"
      },
      "execution_count": null,
      "outputs": [
        {
          "output_type": "display_data",
          "data": {
            "text/plain": [
              "<IPython.core.display.Javascript object>"
            ],
            "application/javascript": [
              "\n",
              "    async function download(id, filename, size) {\n",
              "      if (!google.colab.kernel.accessAllowed) {\n",
              "        return;\n",
              "      }\n",
              "      const div = document.createElement('div');\n",
              "      const label = document.createElement('label');\n",
              "      label.textContent = `Downloading \"${filename}\": `;\n",
              "      div.appendChild(label);\n",
              "      const progress = document.createElement('progress');\n",
              "      progress.max = size;\n",
              "      div.appendChild(progress);\n",
              "      document.body.appendChild(div);\n",
              "\n",
              "      const buffers = [];\n",
              "      let downloaded = 0;\n",
              "\n",
              "      const channel = await google.colab.kernel.comms.open(id);\n",
              "      // Send a message to notify the kernel that we're ready.\n",
              "      channel.send({})\n",
              "\n",
              "      for await (const message of channel.messages) {\n",
              "        // Send a message to notify the kernel that we're ready.\n",
              "        channel.send({})\n",
              "        if (message.buffers) {\n",
              "          for (const buffer of message.buffers) {\n",
              "            buffers.push(buffer);\n",
              "            downloaded += buffer.byteLength;\n",
              "            progress.value = downloaded;\n",
              "          }\n",
              "        }\n",
              "      }\n",
              "      const blob = new Blob(buffers, {type: 'application/binary'});\n",
              "      const a = document.createElement('a');\n",
              "      a.href = window.URL.createObjectURL(blob);\n",
              "      a.download = filename;\n",
              "      div.appendChild(a);\n",
              "      a.click();\n",
              "      div.remove();\n",
              "    }\n",
              "  "
            ]
          },
          "metadata": {}
        },
        {
          "output_type": "display_data",
          "data": {
            "text/plain": [
              "<IPython.core.display.Javascript object>"
            ],
            "application/javascript": [
              "download(\"download_d0ae5c09-e898-4756-8e52-3f755eae4500\", \"borderline_oversampled_data.xlsx\", 10999513)"
            ]
          },
          "metadata": {}
        }
      ]
    },
    {
      "cell_type": "markdown",
      "source": [
        "# **Undersampling**"
      ],
      "metadata": {
        "id": "dYYL0WCNjkH7"
      }
    },
    {
      "cell_type": "code",
      "source": [
        "# Undersampling\n",
        "from imblearn.under_sampling import RandomUnderSampler\n",
        "\n",
        "# Apply Random Undersampling\n",
        "rus = RandomUnderSampler()\n",
        "X_resampled, y_resampled = rus.fit_resample(X, y)\n",
        "\n",
        "# Combine resampled X and y\n",
        "resampled_data = pd.concat([X_resampled, y_resampled], axis=1)\n",
        "resampled_data.to_excel('undersampled_data.xlsx', index=False)\n",
        "files.download('undersampled_data.xlsx')"
      ],
      "metadata": {
        "id": "d9uBNe2ma6nd",
        "colab": {
          "base_uri": "https://localhost:8080/",
          "height": 17
        },
        "outputId": "2bde0b6b-865c-4ac3-d53e-91adb2a2dc5a"
      },
      "execution_count": null,
      "outputs": [
        {
          "output_type": "display_data",
          "data": {
            "text/plain": [
              "<IPython.core.display.Javascript object>"
            ],
            "application/javascript": [
              "\n",
              "    async function download(id, filename, size) {\n",
              "      if (!google.colab.kernel.accessAllowed) {\n",
              "        return;\n",
              "      }\n",
              "      const div = document.createElement('div');\n",
              "      const label = document.createElement('label');\n",
              "      label.textContent = `Downloading \"${filename}\": `;\n",
              "      div.appendChild(label);\n",
              "      const progress = document.createElement('progress');\n",
              "      progress.max = size;\n",
              "      div.appendChild(progress);\n",
              "      document.body.appendChild(div);\n",
              "\n",
              "      const buffers = [];\n",
              "      let downloaded = 0;\n",
              "\n",
              "      const channel = await google.colab.kernel.comms.open(id);\n",
              "      // Send a message to notify the kernel that we're ready.\n",
              "      channel.send({})\n",
              "\n",
              "      for await (const message of channel.messages) {\n",
              "        // Send a message to notify the kernel that we're ready.\n",
              "        channel.send({})\n",
              "        if (message.buffers) {\n",
              "          for (const buffer of message.buffers) {\n",
              "            buffers.push(buffer);\n",
              "            downloaded += buffer.byteLength;\n",
              "            progress.value = downloaded;\n",
              "          }\n",
              "        }\n",
              "      }\n",
              "      const blob = new Blob(buffers, {type: 'application/binary'});\n",
              "      const a = document.createElement('a');\n",
              "      a.href = window.URL.createObjectURL(blob);\n",
              "      a.download = filename;\n",
              "      div.appendChild(a);\n",
              "      a.click();\n",
              "      div.remove();\n",
              "    }\n",
              "  "
            ]
          },
          "metadata": {}
        },
        {
          "output_type": "display_data",
          "data": {
            "text/plain": [
              "<IPython.core.display.Javascript object>"
            ],
            "application/javascript": [
              "download(\"download_0aec28a7-a5ae-4ed3-aabd-a0014a6c28d8\", \"undersampled_data.xlsx\", 830658)"
            ]
          },
          "metadata": {}
        }
      ]
    }
  ]
}